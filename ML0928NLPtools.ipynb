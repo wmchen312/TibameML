{
  "nbformat": 4,
  "nbformat_minor": 0,
  "metadata": {
    "colab": {
      "name": "ML0928NLPtools.ipynb",
      "provenance": [],
      "authorship_tag": "ABX9TyOp9o8SYc8OSVx7zeiy1kuV",
      "include_colab_link": true
    },
    "kernelspec": {
      "name": "python3",
      "display_name": "Python 3"
    },
    "language_info": {
      "name": "python"
    }
  },
  "cells": [
    {
      "cell_type": "markdown",
      "metadata": {
        "id": "view-in-github",
        "colab_type": "text"
      },
      "source": [
        "<a href=\"https://colab.research.google.com/github/wmchen312/TibameML/blob/main/ML0928NLPtools.ipynb\" target=\"_parent\"><img src=\"https://colab.research.google.com/assets/colab-badge.svg\" alt=\"Open In Colab\"/></a>"
      ]
    },
    {
      "cell_type": "code",
      "metadata": {
        "colab": {
          "base_uri": "https://localhost:8080/"
        },
        "id": "nMtPkHUPabGw",
        "outputId": "8195e6ed-dc81-4d63-a862-4fba8716e543"
      },
      "source": [
        "!pip install opencc-python-reimplemented"
      ],
      "execution_count": null,
      "outputs": [
        {
          "output_type": "stream",
          "name": "stdout",
          "text": [
            "Collecting opencc-python-reimplemented\n",
            "  Downloading opencc-python-reimplemented-0.1.6.tar.gz (484 kB)\n",
            "\u001b[?25l\r\u001b[K     |▊                               | 10 kB 24.4 MB/s eta 0:00:01\r\u001b[K     |█▍                              | 20 kB 31.1 MB/s eta 0:00:01\r\u001b[K     |██                              | 30 kB 35.6 MB/s eta 0:00:01\r\u001b[K     |██▊                             | 40 kB 33.0 MB/s eta 0:00:01\r\u001b[K     |███▍                            | 51 kB 34.0 MB/s eta 0:00:01\r\u001b[K     |████                            | 61 kB 24.9 MB/s eta 0:00:01\r\u001b[K     |████▊                           | 71 kB 24.6 MB/s eta 0:00:01\r\u001b[K     |█████▍                          | 81 kB 26.2 MB/s eta 0:00:01\r\u001b[K     |██████                          | 92 kB 28.1 MB/s eta 0:00:01\r\u001b[K     |██████▊                         | 102 kB 25.3 MB/s eta 0:00:01\r\u001b[K     |███████▍                        | 112 kB 25.3 MB/s eta 0:00:01\r\u001b[K     |████████▏                       | 122 kB 25.3 MB/s eta 0:00:01\r\u001b[K     |████████▉                       | 133 kB 25.3 MB/s eta 0:00:01\r\u001b[K     |█████████▌                      | 143 kB 25.3 MB/s eta 0:00:01\r\u001b[K     |██████████▏                     | 153 kB 25.3 MB/s eta 0:00:01\r\u001b[K     |██████████▉                     | 163 kB 25.3 MB/s eta 0:00:01\r\u001b[K     |███████████▌                    | 174 kB 25.3 MB/s eta 0:00:01\r\u001b[K     |████████████▏                   | 184 kB 25.3 MB/s eta 0:00:01\r\u001b[K     |████████████▉                   | 194 kB 25.3 MB/s eta 0:00:01\r\u001b[K     |█████████████▌                  | 204 kB 25.3 MB/s eta 0:00:01\r\u001b[K     |██████████████▏                 | 215 kB 25.3 MB/s eta 0:00:01\r\u001b[K     |██████████████▉                 | 225 kB 25.3 MB/s eta 0:00:01\r\u001b[K     |███████████████▌                | 235 kB 25.3 MB/s eta 0:00:01\r\u001b[K     |████████████████▎               | 245 kB 25.3 MB/s eta 0:00:01\r\u001b[K     |█████████████████               | 256 kB 25.3 MB/s eta 0:00:01\r\u001b[K     |█████████████████▋              | 266 kB 25.3 MB/s eta 0:00:01\r\u001b[K     |██████████████████▎             | 276 kB 25.3 MB/s eta 0:00:01\r\u001b[K     |███████████████████             | 286 kB 25.3 MB/s eta 0:00:01\r\u001b[K     |███████████████████▋            | 296 kB 25.3 MB/s eta 0:00:01\r\u001b[K     |████████████████████▎           | 307 kB 25.3 MB/s eta 0:00:01\r\u001b[K     |█████████████████████           | 317 kB 25.3 MB/s eta 0:00:01\r\u001b[K     |█████████████████████▋          | 327 kB 25.3 MB/s eta 0:00:01\r\u001b[K     |██████████████████████▎         | 337 kB 25.3 MB/s eta 0:00:01\r\u001b[K     |███████████████████████         | 348 kB 25.3 MB/s eta 0:00:01\r\u001b[K     |███████████████████████▊        | 358 kB 25.3 MB/s eta 0:00:01\r\u001b[K     |████████████████████████▍       | 368 kB 25.3 MB/s eta 0:00:01\r\u001b[K     |█████████████████████████       | 378 kB 25.3 MB/s eta 0:00:01\r\u001b[K     |█████████████████████████▊      | 389 kB 25.3 MB/s eta 0:00:01\r\u001b[K     |██████████████████████████▍     | 399 kB 25.3 MB/s eta 0:00:01\r\u001b[K     |███████████████████████████     | 409 kB 25.3 MB/s eta 0:00:01\r\u001b[K     |███████████████████████████▊    | 419 kB 25.3 MB/s eta 0:00:01\r\u001b[K     |████████████████████████████▍   | 430 kB 25.3 MB/s eta 0:00:01\r\u001b[K     |█████████████████████████████   | 440 kB 25.3 MB/s eta 0:00:01\r\u001b[K     |█████████████████████████████▊  | 450 kB 25.3 MB/s eta 0:00:01\r\u001b[K     |██████████████████████████████▍ | 460 kB 25.3 MB/s eta 0:00:01\r\u001b[K     |███████████████████████████████ | 471 kB 25.3 MB/s eta 0:00:01\r\u001b[K     |███████████████████████████████▉| 481 kB 25.3 MB/s eta 0:00:01\r\u001b[K     |████████████████████████████████| 484 kB 25.3 MB/s \n",
            "\u001b[?25hBuilding wheels for collected packages: opencc-python-reimplemented\n",
            "  Building wheel for opencc-python-reimplemented (setup.py) ... \u001b[?25l\u001b[?25hdone\n",
            "  Created wheel for opencc-python-reimplemented: filename=opencc_python_reimplemented-0.1.6-py2.py3-none-any.whl size=486150 sha256=ebe34781d7674ba1caa447c9437b6db52f7ada8c76fd7ddbccfb231e821780af\n",
            "  Stored in directory: /root/.cache/pip/wheels/4e/e2/60/d062d260be08788bb389521544a8fc173de9a9a78d6a593344\n",
            "Successfully built opencc-python-reimplemented\n",
            "Installing collected packages: opencc-python-reimplemented\n",
            "Successfully installed opencc-python-reimplemented-0.1.6\n"
          ]
        }
      ]
    },
    {
      "cell_type": "code",
      "metadata": {
        "colab": {
          "base_uri": "https://localhost:8080/",
          "height": 106
        },
        "id": "-6e7-XSkbnE0",
        "outputId": "2e55529b-6d4c-4974-8fa6-dafd30738156"
      },
      "source": [
        "from opencc import OpenCC\n",
        "cc = OpenCC('s2t') \n",
        "to_convert = \"\"\"在对于时局的估量和伴随而来的我们的行动问题上，我们党内有一部分同志还缺少正确的认识。他们虽然相信革命高潮不可避免地要到来，却不相信革命高潮有迅速到来的可能。因此他们不赞成争取江西的计划，而只赞成在福建、广东、江西之间的三个边界区域的流动游击，同时也没有在游击区域建立红色政权的深刻的观念，因此也就没有用这种红色政权的巩固和扩大去促进全国革命高潮的深刻的观念。他们似乎认为在距离革命高潮尚远的时期做这种建立政权的艰苦工作为徒劳，而希望而朱德毛泽东式、方志敏式之有根据地的，有计划地建设政权的，深入土地革命的，扩大人民武装的路线是经由乡赤卫队、区赤卫大队、县赤卫总队、地方红军直至正规红军这样一套办法的，政权发展是波浪式地向前扩大的，等等的政策，无疑义地是正确的。必须这样，才能树立全国革命群众的信仰，如苏联之于全世界然。必须这样，才能给反动统治阶级以甚大的困难，动摇其基础而促进其内部的分解。也必须这样，才能真正地创造红军，成为将来大革命的主要工具。总而言之，必须这样，才能促进革命的高潮。\"\"\"\n",
        "converted = cc.convert(to_convert)\n",
        "converted"
      ],
      "execution_count": null,
      "outputs": [
        {
          "output_type": "execute_result",
          "data": {
            "application/vnd.google.colaboratory.intrinsic+json": {
              "type": "string"
            },
            "text/plain": [
              "'在對於時局的估量和伴隨而來的我們的行動問題上，我們黨內有一部分同志還缺少正確的認識。他們雖然相信革命高潮不可避免地要到來，卻不相信革命高潮有迅速到來的可能。因此他們不贊成爭取江西的計劃，而只贊成在福建、廣東、江西之間的三個邊界區域的流動遊擊，同時也沒有在游擊區域建立紅色政權的深刻的觀念，因此也就沒有用這種紅色政權的鞏固和擴大去促進全國革命高潮的深刻的觀念。他們似乎認爲在距離革命高潮尚遠的時期做這種建立政權的艱苦工作爲徒勞，而希望而朱德毛澤東式、方誌敏式之有根據地的，有計劃地建設政權的，深入土地革命的，擴大人民武裝的路線是經由鄉赤衛隊、區赤衛大隊、縣赤衛總隊、地方紅軍直至正規紅軍這樣一套辦法的，政權發展是波浪式地向前擴大的，等等的政策，無疑義地是正確的。必須這樣，才能樹立全國革命羣衆的信仰，如蘇聯之於全世界然。必須這樣，才能給反動統治階級以甚大的困難，動搖其基礎而促進其內部的分解。也必須這樣，才能真正地創造紅軍，成爲將來大革命的主要工具。總而言之，必須這樣，才能促進革命的高潮。'"
            ]
          },
          "metadata": {},
          "execution_count": 8
        }
      ]
    },
    {
      "cell_type": "code",
      "metadata": {
        "id": "lVebflASjmhs"
      },
      "source": [
        "article=\"\"\"新北市三峽恩主公醫院昨天沒稀釋BNT疫苗原液就對25名民眾施打，遭到懲處停打1周，上午院長吳志雄也與院方幹部出面致歉，表示藥師跟護理師交班不夠仔細，率先施打25瓶疫苗中，因瓶蓋脫落誤認為已經稀釋，才會把6人份的量只給1人施打。\n",
        "\n",
        "吳志雄解釋，當時藥師在交班時，只說這25瓶要先打，並沒提醒同仁要稀釋，而這25瓶是散裝在袋子，在碰撞下疑似瓶蓋脫落，護理同仁誤以為稀釋過就直接替民眾施打。\n",
        "\n",
        "25人年齡層曝光：分布在18到65歲 20人在40歲以上\n",
        "吳志雄指出，這25人年齡介在18到65歲，18到20歲區間有5人，剩下都在40歲以上，年紀最長則是65歲，當中有1人有心臟病史。不過25人中有5人不願到醫院檢查，11人檢查後回家，9人檢查後住院。衛生局表示，這25人皆透過1922疫苗預約平台預約接種BNT疫苗。\n",
        "\n",
        "院方表示，到醫院民眾已經都做完心電圖、超音波、胸部X光與抽血檢查等，除少數民眾注射部位疼痛外，其他狀況大致平順，也會持續關心病人狀況，並至少追蹤1個月，會再做1次心電圖、心臟酵素檢查。\n",
        "\n",
        "恩主公爆出全國首例沒稀釋疫苗原液就施打的事件，包括中央流行疫情指揮中心與新北衛生局都很震驚，吳志雄坦言，確實中間很多一連串錯誤才會釀出問題，會做深刻檢討，包括溝通、流程，院方都會省思，未來當疫苗到現場包括場控、藥師與護理師都要逐一比對簽名才能注射。\n",
        "\n",
        "記者會上吳志雄率領團隊向大眾鞠躬道歉，他表示，對於這次事件造成社會不安以及這25位民眾未來可能的風險，都感到非常抱歉。\n",
        "\n",
        "疫情快報\n",
        "▪【疫情專題】9月28日新增本土1例、境外6例、死亡0例\n",
        "▪【QA整理包】哪些副作用？會暈針嗎？學生接種BNT疫苗注意事項\n",
        "▪【整理包】接種疫苗前後哪些禁忌飲食 副作用該如何緩解？\"\"\""
      ],
      "execution_count": null,
      "outputs": []
    },
    {
      "cell_type": "code",
      "metadata": {
        "colab": {
          "base_uri": "https://localhost:8080/",
          "height": 417
        },
        "id": "XuM9YiQrcIlG",
        "outputId": "8c8483c7-ffdd-434a-a0cb-c13dfefa3b43"
      },
      "source": [
        "import jieba\n",
        "from urllib.request import urlretrieve\n",
        "url = \"https://github.com/fxsjy/jieba/raw/master/extra_dict/dict.txt.big\"\n",
        "urlretrieve(url, \"dict.txt.big\")\n",
        "# 載入大辭典\n",
        "jieba.set_dictionary(\"dict.txt.big\")\n",
        "# 載入自定義辭典\n",
        "jieba.load_userdict(\"extra.txt\")\n",
        "\" \".join(jieba.cut(article))"
      ],
      "execution_count": null,
      "outputs": [
        {
          "output_type": "stream",
          "name": "stderr",
          "text": [
            "Building prefix dict from /content/dict.txt.big ...\n",
            "Dumping model to file cache /tmp/jieba.u501edca284da514cb68b53a20324f4e3.cache\n",
            "Loading model cost 1.718 seconds.\n",
            "Prefix dict has been built successfully.\n"
          ]
        },
        {
          "output_type": "error",
          "ename": "FileNotFoundError",
          "evalue": "ignored",
          "traceback": [
            "\u001b[0;31m---------------------------------------------------------------------------\u001b[0m",
            "\u001b[0;31mFileNotFoundError\u001b[0m                         Traceback (most recent call last)",
            "\u001b[0;32m<ipython-input-22-0c2f3becd665>\u001b[0m in \u001b[0;36m<module>\u001b[0;34m()\u001b[0m\n\u001b[1;32m      6\u001b[0m \u001b[0mjieba\u001b[0m\u001b[0;34m.\u001b[0m\u001b[0mset_dictionary\u001b[0m\u001b[0;34m(\u001b[0m\u001b[0;34m\"dict.txt.big\"\u001b[0m\u001b[0;34m)\u001b[0m\u001b[0;34m\u001b[0m\u001b[0;34m\u001b[0m\u001b[0m\n\u001b[1;32m      7\u001b[0m \u001b[0;31m# 載入自定義辭典\u001b[0m\u001b[0;34m\u001b[0m\u001b[0;34m\u001b[0m\u001b[0;34m\u001b[0m\u001b[0m\n\u001b[0;32m----> 8\u001b[0;31m \u001b[0mjieba\u001b[0m\u001b[0;34m.\u001b[0m\u001b[0mload_userdict\u001b[0m\u001b[0;34m(\u001b[0m\u001b[0;34m\"extra.txt\"\u001b[0m\u001b[0;34m)\u001b[0m\u001b[0;34m\u001b[0m\u001b[0;34m\u001b[0m\u001b[0m\n\u001b[0m\u001b[1;32m      9\u001b[0m \u001b[0;34m\" \"\u001b[0m\u001b[0;34m.\u001b[0m\u001b[0mjoin\u001b[0m\u001b[0;34m(\u001b[0m\u001b[0mjieba\u001b[0m\u001b[0;34m.\u001b[0m\u001b[0mcut\u001b[0m\u001b[0;34m(\u001b[0m\u001b[0marticle\u001b[0m\u001b[0;34m)\u001b[0m\u001b[0;34m)\u001b[0m\u001b[0;34m\u001b[0m\u001b[0;34m\u001b[0m\u001b[0m\n",
            "\u001b[0;32m/usr/local/lib/python3.7/dist-packages/jieba/__init__.py\u001b[0m in \u001b[0;36mload_userdict\u001b[0;34m(self, f)\u001b[0m\n\u001b[1;32m    396\u001b[0m         \u001b[0;32mif\u001b[0m \u001b[0misinstance\u001b[0m\u001b[0;34m(\u001b[0m\u001b[0mf\u001b[0m\u001b[0;34m,\u001b[0m \u001b[0mstring_types\u001b[0m\u001b[0;34m)\u001b[0m\u001b[0;34m:\u001b[0m\u001b[0;34m\u001b[0m\u001b[0;34m\u001b[0m\u001b[0m\n\u001b[1;32m    397\u001b[0m             \u001b[0mf_name\u001b[0m \u001b[0;34m=\u001b[0m \u001b[0mf\u001b[0m\u001b[0;34m\u001b[0m\u001b[0;34m\u001b[0m\u001b[0m\n\u001b[0;32m--> 398\u001b[0;31m             \u001b[0mf\u001b[0m \u001b[0;34m=\u001b[0m \u001b[0mopen\u001b[0m\u001b[0;34m(\u001b[0m\u001b[0mf\u001b[0m\u001b[0;34m,\u001b[0m \u001b[0;34m'rb'\u001b[0m\u001b[0;34m)\u001b[0m\u001b[0;34m\u001b[0m\u001b[0;34m\u001b[0m\u001b[0m\n\u001b[0m\u001b[1;32m    399\u001b[0m         \u001b[0;32melse\u001b[0m\u001b[0;34m:\u001b[0m\u001b[0;34m\u001b[0m\u001b[0;34m\u001b[0m\u001b[0m\n\u001b[1;32m    400\u001b[0m             \u001b[0mf_name\u001b[0m \u001b[0;34m=\u001b[0m \u001b[0mresolve_filename\u001b[0m\u001b[0;34m(\u001b[0m\u001b[0mf\u001b[0m\u001b[0;34m)\u001b[0m\u001b[0;34m\u001b[0m\u001b[0;34m\u001b[0m\u001b[0m\n",
            "\u001b[0;31mFileNotFoundError\u001b[0m: [Errno 2] No such file or directory: 'extra.txt'"
          ]
        }
      ]
    },
    {
      "cell_type": "code",
      "metadata": {
        "id": "es81n1Qyj-Oz"
      },
      "source": [
        ""
      ],
      "execution_count": null,
      "outputs": []
    }
  ]
}