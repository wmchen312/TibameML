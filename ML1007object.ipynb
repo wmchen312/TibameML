{
  "nbformat": 4,
  "nbformat_minor": 0,
  "metadata": {
    "colab": {
      "name": "ML1007object.ipynb",
      "provenance": [],
      "collapsed_sections": [],
      "authorship_tag": "ABX9TyOtduXdFIDG8UhHzqFB9vND",
      "include_colab_link": true
    },
    "kernelspec": {
      "name": "python3",
      "display_name": "Python 3"
    },
    "language_info": {
      "name": "python"
    }
  },
  "cells": [
    {
      "cell_type": "markdown",
      "metadata": {
        "id": "view-in-github",
        "colab_type": "text"
      },
      "source": [
        "<a href=\"https://colab.research.google.com/github/wmchen312/TibameML/blob/main/ML1007object.ipynb\" target=\"_parent\"><img src=\"https://colab.research.google.com/assets/colab-badge.svg\" alt=\"Open In Colab\"/></a>"
      ]
    },
    {
      "cell_type": "code",
      "metadata": {
        "colab": {
          "base_uri": "https://localhost:8080/"
        },
        "id": "cup3oRBHXK4X",
        "outputId": "dfc518eb-bfa0-4ee6-e970-3789694a6e81"
      },
      "source": [
        "####物件導向##### \n",
        "\n",
        "#物件導向: 自創一個你需要的型態\n",
        "# 型態: 1. attribute(屬性) p1.height\n",
        "#      2. method(專屬函式) \"abc\".replace(\"a\", \"b\")\n",
        "# __init__\n",
        "# https://docs.python.org/zh-tw/3/reference/datamodel.html#basic-customization\n",
        "class Person:\n",
        "    def __init__(self, h, w):\n",
        "        self.height = h\n",
        "        self.weight = w\n",
        "\n",
        "    def getbmi(self):\n",
        "        return self.weight / (self.height / 100) ** 2\n",
        "\n",
        "    def __str__(self):\n",
        "        return \"{}/{}\".format(self.height, self.weight)\n",
        "\n",
        "    def __eq__(self, other):\n",
        "        return self.height == other.height and self.weight == other.weight\n",
        "\n",
        "p1 = Person(175, 80)\n",
        "bmi = p1.getbmi()\n",
        "p2 = Person(175, 80)\n",
        "# print -> str(p2) -> p2.__str__()\n",
        "print(p2)\n",
        "# p1 == p2 -> p1.__eq__(p2)\n",
        "p1 == p2\n",
        "\n",
        "####物件導向####"
      ],
      "execution_count": null,
      "outputs": [
        {
          "output_type": "stream",
          "name": "stdout",
          "text": [
            "175/80\n"
          ]
        },
        {
          "output_type": "execute_result",
          "data": {
            "text/plain": [
              "True"
            ]
          },
          "metadata": {},
          "execution_count": 19
        }
      ]
    },
    {
      "cell_type": "code",
      "metadata": {
        "id": "1VMElAHunIcJ"
      },
      "source": [
        ""
      ],
      "execution_count": null,
      "outputs": []
    }
  ]
}